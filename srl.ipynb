{
 "cells": [
  {
   "cell_type": "code",
   "execution_count": null,
   "metadata": {
    "collapsed": true
   },
   "outputs": [],
   "source": [
    "from practnlptools.tools import Annotator\n",
    "annotator=Annotator()\n",
    "annotator.getAnnotations(\"they pour it into a bowl\")['srl'][0]\n",
    "def create_instructions(phrase):\n",
    "    \n",
    "    annotated = annotator.getAnnotations(phrase)['srl']\n",
    "    annotated_steps = []\n",
    "    if len(annotated) > 0:\n",
    "        for i in xrange(len(annotated)):\n",
    "            annotated_step = dict()\n",
    "            annotated_step['action'] = annotated[i]['V']\n",
    "            if set(['A1','A2']).issubset(annotated[i].keys()):\n",
    "                annotated_step['object'] = annotated[i]['A1']\n",
    "                annotated_step['target'] = annotated[i]['A2']\n",
    "            elif set(['A2']).issubset(annotated[i].keys()):\n",
    "                annotated_step['target'] = annotated[i]['A2']\n",
    "            elif set(['A1']).issubset(annotated[i].keys()):\n",
    "                annotated_step['object'] = annotated[i]['A1']\n",
    "            else:\n",
    "                pass\n",
    "            annotated_steps.append(annotated_step)\n",
    "   \n",
    "    return annotated_steps\n",
    "\n",
    "create_instructions(s)"
   ]
  }
 ],
 "metadata": {
  "kernelspec": {
   "display_name": "Python 2",
   "language": "python",
   "name": "python2"
  },
  "language_info": {
   "codemirror_mode": {
    "name": "ipython",
    "version": 2
   },
   "file_extension": ".py",
   "mimetype": "text/x-python",
   "name": "python",
   "nbconvert_exporter": "python",
   "pygments_lexer": "ipython2",
   "version": "2.7.10"
  }
 },
 "nbformat": 4,
 "nbformat_minor": 0
}
