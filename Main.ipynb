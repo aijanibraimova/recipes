{
 "cells": [
  {
   "cell_type": "code",
   "execution_count": 45,
   "metadata": {
    "collapsed": false
   },
   "outputs": [],
   "source": [
    "import pandas as pd\n",
    "import numpy as np\n",
    "import matplotlib.pyplot as plt\n",
    "import json, urllib2\n",
    "import os, glob, sys, time\n",
    "import nltk,re\n",
    "import itertools\n",
    "from nltk.corpus import stopwords\n",
    "%matplotlib inline"
   ]
  },
  {
   "cell_type": "markdown",
   "metadata": {},
   "source": [
    "### Helper functions"
   ]
  },
  {
   "cell_type": "code",
   "execution_count": 2,
   "metadata": {
    "collapsed": true
   },
   "outputs": [],
   "source": [
    "#Read 70k recipes from allrecipes.com into a list of dictionaries\n",
    "def read_data():\n",
    "    folder='recipes/'\n",
    "    files=pd.read_csv('all_files.txt',header=None)[0].values\n",
    "    k=0\n",
    "    recipes=[]\n",
    "    st=time.time()\n",
    "    for filename in files:\n",
    "        f=open(folder+filename,'r')\n",
    "        r=json.load(f)\n",
    "        recipes.append(r)\n",
    "        k+=1\n",
    "        if k%10000==0:\n",
    "            print k\n",
    "    return recipes\n",
    "\n",
    "#Removing and replacing some noizy symbols\n",
    "def clean_string(s):    \n",
    "    sep_symbols=[';']\n",
    "    for ss in sep_symbols:\n",
    "        s=s.replace(ss,'.')\n",
    "    for i in range(10):\n",
    "        s=s.replace('..','.')\n",
    "    bad_symbols=[')','(','!','-']\n",
    "    for bs in bad_symbols:\n",
    "        s=s.replace(bs,' ')\n",
    "    s=s.replace(',',' , ')                  \n",
    "    s=s.replace('  ',' ')\n",
    "    s=s.replace('. ','.')\n",
    "    return s\n",
    "\n",
    "#Raw direction text -> List of single directions\n",
    "def get_clean_directions(recipe):\n",
    "    raw=recipe['directions']\n",
    "    direction=''\n",
    "    for dd in raw:\n",
    "        direction=direction+dd+'.'\n",
    "    direction=clean_string(direction).lower()\n",
    "    s=direction.split('.')\n",
    "    return s"
   ]
  },
  {
   "cell_type": "markdown",
   "metadata": {},
   "source": [
    "### Highlighting recipes"
   ]
  },
  {
   "cell_type": "code",
   "execution_count": 49,
   "metadata": {
    "collapsed": true
   },
   "outputs": [],
   "source": [
    "def bright(l,idx1,idx2,idx3):\n",
    "    l2=[]\n",
    "    for i in range(len(l)):\n",
    "        if idx1[i]:\n",
    "            l2.append(yellow(l[i]))\n",
    "        elif idx2[i]:\n",
    "            l2.append(blue(l[i]))\n",
    "        elif idx3[i]:\n",
    "            l2.append(purple(l[i]))\n",
    "        else:\n",
    "            l2.append(l[i])\n",
    "    l2=' '.join(l2)\n",
    "    return l2\n",
    "\n",
    "def purple(string):\n",
    "    return '\\x1b[1;45m'+string+'\\x1b[0m'\n",
    "\n",
    "def yellow(string):\n",
    "    return '\\x1b[1;43m'+string+'\\x1b[0m'\n",
    "\n",
    "def blue(string):\n",
    "    return '\\x1b[1;46m'+string+'\\x1b[0m'\n",
    "\n",
    "def highlight_recipe(recipes,recipe_id):\n",
    "    dirs=get_clean_directions(recipes[recipe_id])\n",
    "    ingr_words=list(set(ingr_words_func(recipes[recipe_id]['ingr'])))\n",
    "    for d in dirs:\n",
    "        if len(d)>0:\n",
    "            d_words=np.array(d.split(' '))\n",
    "            ingr_idx,measure_idx=np.array(define_ingr_measure(d_words, ingr_words))\n",
    "            action_idx=np.array([(word in actions_set) for word in d_words]).astype(np.int32)\n",
    "            colored_string=bright(d_words,action_idx,ingr_idx,measure_idx)\n",
    "            print colored_string\n",
    "            print create_instructions(d)\n",
    "            print '_____________________________________'\n",
    "            #print create_instructions(d)\n",
    "            \n",
    "\n",
    "            \n",
    "import re\n"
   ]
  },
  {
   "cell_type": "markdown",
   "metadata": {},
   "source": [
    "### Ingredients stuff"
   ]
  },
  {
   "cell_type": "code",
   "execution_count": 41,
   "metadata": {
    "collapsed": true
   },
   "outputs": [],
   "source": [
    "#cleaning and reading ingridiends and measures\n",
    "\n",
    "def read_measure_list(path):\n",
    "    measures=pd.read_csv(path,header=None)\n",
    "    measure_list=measures[0].values\n",
    "    return measure_list\n",
    "\n",
    "def remove_stopwords(text_list):\n",
    "    stop = stopwords.words('english')\n",
    "    content = [w for w in text_list if w.lower() not in stop]\n",
    "    return content\n",
    "\n",
    "def remove_digits(text_list):\n",
    "    content=[]\n",
    "    for w in text_list:\n",
    "        w = re.sub('[./]', ' ', w).split() \n",
    "        content.append(w)\n",
    "    content = list(itertools.chain.from_iterable(content))\n",
    "    content = [w for w in content if w.isdigit()==0]\n",
    "    return content\n",
    "\n",
    "def get_clean_text(text):\n",
    "    return text.replace('(','').replace(')','').replace(',','').replace('-',' ').replace('/',' ').replace(';',' ').replace('  ',' ')\n",
    "\n",
    "def ingr_words_func(ingr_list):\n",
    "    recipe_words=[]\n",
    "    for recipe in ingr_list:\n",
    "        recipe=get_clean_text(recipe)\n",
    "        recipe_words.append([element for element in recipe.lower().split()])\n",
    "    recipe_words = list(itertools.chain.from_iterable(recipe_words))\n",
    "    recipe_words=remove_stopwords(remove_digits(recipe_words))\n",
    "    return recipe_words\n",
    "\n",
    "#defining ingridients and measures\n",
    "def define_ingr_measure(dirs_words, ingr_words):\n",
    "    if_ingr=[0]*len(dirs_words)\n",
    "    if_measure=[0]*len(dirs_words)\n",
    "    for i,dirs_word in enumerate(dirs_words):\n",
    "        for ingrs in ingr_words:\n",
    "            if dirs_word==ingrs:\n",
    "                if dirs_word not in measure_list:\n",
    "                    if_ingr[i]=1\n",
    "                else:\n",
    "                    if_measure[i]=1\n",
    "    return if_ingr,if_measure"
   ]
  },
  {
   "cell_type": "markdown",
   "metadata": {},
   "source": [
    "### Semantic role labeling part"
   ]
  },
  {
   "cell_type": "code",
   "execution_count": 42,
   "metadata": {
    "collapsed": false
   },
   "outputs": [],
   "source": [
    "from practnlptools.tools import Annotator\n",
    "annotator=Annotator()\n",
    "def create_instructions(phrase,flag=1):\n",
    "    \n",
    "    annotated = annotator.getAnnotations(phrase)['srl']\n",
    "    annotated_steps = []\n",
    "    if len(annotated) > 0:\n",
    "        for i in xrange(len(annotated)):\n",
    "            annotated_step = dict()\n",
    "            annotated_step['action'] = annotated[i]['V']\n",
    "            if set(['A1','A2']).issubset(annotated[i].keys()):\n",
    "                annotated_step['object'] = annotated[i]['A1']\n",
    "                annotated_step['target'] = annotated[i]['A2']\n",
    "            elif set(['A2']).issubset(annotated[i].keys()):\n",
    "                annotated_step['target'] = annotated[i]['A2']\n",
    "            elif set(['A1']).issubset(annotated[i].keys()):\n",
    "                annotated_step['object'] = annotated[i]['A1']\n",
    "            else:\n",
    "                pass\n",
    "            annotated_steps.append(annotated_step)\n",
    "    if (len(annotated_steps)==0) & (flag):\n",
    "        return create_instructions('they '+phrase,0)\n",
    "    return annotated_steps"
   ]
  },
  {
   "cell_type": "markdown",
   "metadata": {},
   "source": [
    "## Main"
   ]
  },
  {
   "cell_type": "markdown",
   "metadata": {},
   "source": [
    "##### Loading data"
   ]
  },
  {
   "cell_type": "code",
   "execution_count": 5,
   "metadata": {
    "collapsed": false
   },
   "outputs": [
    {
     "name": "stdout",
     "output_type": "stream",
     "text": [
      "10000\n",
      "20000\n",
      "30000\n",
      "40000\n",
      "50000\n",
      "60000\n",
      "70000\n",
      "Wall time: 6.54 s\n"
     ]
    }
   ],
   "source": [
    "%time recipes=read_data()\n",
    "actions=pd.read_csv('actions_dict_sorted.txt',sep=' ')\n",
    "measure_list=read_measure_list('measure_list.txt')"
   ]
  },
  {
   "cell_type": "markdown",
   "metadata": {},
   "source": [
    "#### Tagging results"
   ]
  },
  {
   "cell_type": "code",
   "execution_count": 10,
   "metadata": {
    "collapsed": true
   },
   "outputs": [],
   "source": [
    "actions_set=set(actions[:100].word.values)\n"
   ]
  },
  {
   "cell_type": "code",
   "execution_count": 50,
   "metadata": {
    "collapsed": false
   },
   "outputs": [
    {
     "name": "stdout",
     "output_type": "stream",
     "text": [
      "\u001b[1;43mcombine\u001b[0m \u001b[1;46msugar\u001b[0m and \u001b[1;46moil\u001b[0m\n",
      "[{'action': 'combine', 'object': 'sugar and oil'}]\n",
      "_____________________________________\n",
      "\u001b[1;43mbeat\u001b[0m well\n",
      "[{'action': 'beat', 'object': 'well'}]\n",
      "_____________________________________\n",
      "\u001b[1;43madd\u001b[0m \u001b[1;46meggs\u001b[0m and \u001b[1;43mbeat\u001b[0m\n",
      "[{'action': 'add', 'object': 'eggs'}]\n",
      "_____________________________________\n",
      "\u001b[1;43mcombine\u001b[0m \u001b[1;43mflour\u001b[0m , \u001b[1;46mbaking\u001b[0m \u001b[1;46msoda\u001b[0m , \u001b[1;43msalt\u001b[0m , \u001b[1;46mcinnamon\u001b[0m and \u001b[1;46mnutmeg\u001b[0m\n",
      "[{'action': 'combine', 'object': 'flour'}, {'action': 'baking', 'object': 'soda , salt , cinnamon and nutmeg'}]\n",
      "_____________________________________\n",
      "\u001b[1;43mstir\u001b[0m \u001b[1;43mflour\u001b[0m mixture into egg mixture alternately with \u001b[1;46mwater\u001b[0m\n",
      "[{'action': 'stir', 'object': 'flour mixture', 'target': 'into egg mixture alternately with water'}]\n",
      "_____________________________________\n",
      "\u001b[1;43mstir\u001b[0m in \u001b[1;46msweet\u001b[0m \u001b[1;46mpotatoes\u001b[0m and \u001b[1;46mchopped\u001b[0m nuts\n",
      "[{'action': 'stir', 'target': 'in sweet potatoes and chopped nuts'}, {'action': 'chopped', 'object': 'nuts'}]\n",
      "_____________________________________\n",
      "\u001b[1;43mpour\u001b[0m batter into greased 9x5 inch loaf pan or 2 small loaf pans \n",
      "[{'action': 'pour', 'object': 'batter'}]\n",
      "_____________________________________\n",
      "\u001b[1;43mbake\u001b[0m at 350 degrees f 175 degrees c for about one hour\n",
      "[{'action': 'bake'}]\n",
      "_____________________________________\n"
     ]
    }
   ],
   "source": [
    "highlight_recipe(recipes,3)"
   ]
  },
  {
   "cell_type": "markdown",
   "metadata": {},
   "source": [
    "### First attempt to build flow of commands"
   ]
  },
  {
   "cell_type": "code",
   "execution_count": 40,
   "metadata": {
    "collapsed": true
   },
   "outputs": [
    {
     "name": "stdout",
     "output_type": "stream",
     "text": [
      "melt margarine in hot water\n",
      "[{'action': 'melt', 'object': 'margarine'}]\n",
      "____________________________________________\n",
      "add sugar and salt and stir\n",
      "[{'action': 'add', 'object': 'sugar and salt and stir'}]\n",
      "____________________________________________\n",
      "add cold water and yeast\n",
      "[{'action': 'add', 'object': 'cold water and yeast'}]\n",
      "____________________________________________\n",
      "stir to dissolve yeast\n",
      "[{'action': 'dissolve', 'object': 'yeast'}]\n",
      "____________________________________________\n",
      "add 3 cups flour and mix\n",
      "[{'action': 'add', 'object': '3 cups flour and mix'}]\n",
      "____________________________________________\n",
      "add eggs and 2 1/2  3 cups more flour\n",
      "[{'action': 'add', 'object': 'eggs and 2 1/2 3 cups'}]\n",
      "____________________________________________\n",
      "mix , cover and let rise until dough doubles in size\n",
      "[{'action': 'let', 'object': 'rise'}]\n",
      "____________________________________________\n",
      "punch down and let rise 30 more minutes or until doubles\n",
      "[{'action': 'punch down'}, {'action': 'let', 'object': 'rise 30 more minutes'}, {'action': 'rise', 'target': '30 more minutes'}]\n",
      "____________________________________________\n",
      "make walnut size balls of dough\n",
      "[{'action': 'make', 'object': 'walnut  of dough', 'target': 'size balls'}]\n",
      "____________________________________________\n",
      "place about 2 inches apart in well buttered 9 x 13 inch pan\n",
      "[{'action': 'place', 'target': 'about 2 inches apart in well buttered 9 x 13 inch pan'}]\n",
      "____________________________________________\n",
      "bake in a preheated 350 degrees f 175 degrees c oven for 30 45 minutes\n",
      "[{'action': 'bake'}]\n",
      "____________________________________________\n",
      "brush top of rolls with margarine while hot\n",
      "[{'action': 'brush', 'object': 'top of rolls with margarine'}]\n",
      "____________________________________________\n"
     ]
    }
   ],
   "source": [
    "recipe_id=2\n",
    "dirs=get_clean_directions(recipes[recipe_id])\n",
    "ingr_words=list(set(ingr_words_func(recipes[recipe_id]['ingr'])))\n",
    "for d in dirs:\n",
    "    if len(d)>0:\n",
    "        print d\n",
    "        print create_instructions(d)\n",
    "        print '____________________________________________'"
   ]
  }
 ],
 "metadata": {
  "kernelspec": {
   "display_name": "Python 2",
   "language": "python",
   "name": "python2"
  },
  "language_info": {
   "codemirror_mode": {
    "name": "ipython",
    "version": 2
   },
   "file_extension": ".py",
   "mimetype": "text/x-python",
   "name": "python",
   "nbconvert_exporter": "python",
   "pygments_lexer": "ipython2",
   "version": "2.7.9"
  }
 },
 "nbformat": 4,
 "nbformat_minor": 0
}
