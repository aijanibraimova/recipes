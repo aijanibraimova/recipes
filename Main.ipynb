{
 "cells": [
  {
   "cell_type": "code",
   "execution_count": 1,
   "metadata": {
    "collapsed": true
   },
   "outputs": [],
   "source": [
    "import pandas as pd\n",
    "import numpy as np\n",
    "import matplotlib.pyplot as plt\n",
    "import json, urllib2\n",
    "import os, glob, sys, time\n",
    "import nltk\n",
    "%matplotlib inline"
   ]
  },
  {
   "cell_type": "markdown",
   "metadata": {},
   "source": [
    "### Helper functions"
   ]
  },
  {
   "cell_type": "code",
   "execution_count": 3,
   "metadata": {
    "collapsed": true
   },
   "outputs": [],
   "source": [
    "#Read 70k recipes from allrecipes.com into a list of dictionaries\n",
    "def read_data():\n",
    "    folder='recipes/'\n",
    "    files=pd.read_csv('all_files.txt',header=None)[0].values\n",
    "    k=0\n",
    "    recipes=[]\n",
    "    st=time.time()\n",
    "    for filename in files:\n",
    "        f=open(folder+filename,'r')\n",
    "        r=json.load(f)\n",
    "        recipes.append(r)\n",
    "        k+=1\n",
    "        if k%10000==0:\n",
    "            print k\n",
    "    return recipes\n",
    "\n",
    "#Removing and replacing some noizy symbols\n",
    "def clean_string(s):    \n",
    "    sep_symbols=[';']\n",
    "    for ss in sep_symbols:\n",
    "        s=s.replace(ss,'.')\n",
    "    for i in range(10):\n",
    "        s=s.replace('..','.')\n",
    "    bad_symbols=[')','(','!','-']\n",
    "    for bs in bad_symbols:\n",
    "        s=s.replace(bs,' ')\n",
    "    s=s.replace(',',' , ')                  \n",
    "    s=s.replace('  ',' ')\n",
    "    s=s.replace('. ','.')\n",
    "    return s\n",
    "\n",
    "#Raw direction text -> List of single directions\n",
    "def get_clean_directions(recipe):\n",
    "    raw=recipe['directions']\n",
    "    direction=''\n",
    "    for dd in raw:\n",
    "        direction=direction+dd+'.'\n",
    "    direction=clean_string(direction).lower()\n",
    "    s=direction.split('.')\n",
    "    return s"
   ]
  },
  {
   "cell_type": "markdown",
   "metadata": {},
   "source": [
    "### Highlighting recipes"
   ]
  },
  {
   "cell_type": "code",
   "execution_count": 7,
   "metadata": {
    "collapsed": true
   },
   "outputs": [],
   "source": [
    "def bright(l,l_idx):\n",
    "    l2=[]\n",
    "    for i in range(len(l)):\n",
    "        if l_idx[i]:\n",
    "            l2.append(yellow(l[i]))\n",
    "        else:\n",
    "            l2.append(l[i])\n",
    "    l2=' '.join(l2)\n",
    "    return l2\n",
    "\n",
    "def yellow(s):\n",
    "    return '\\x1b[43m'+s+'\\x1b[0m'\n",
    "\n",
    "def green(s):\n",
    "    return '\\x1b[32m'+s+'\\x1b[0m'\n",
    "\n",
    "def highlight_recipe(recipes,recipe_id):\n",
    "    dirs=get_clean_directions(recipes[recipe_id])\n",
    "    for d in dirs:\n",
    "        if len(d)>0:\n",
    "            d_words=np.array(d.split(' '))\n",
    "            action_idx=np.array([(word in actions_set) for word in d_words])\n",
    "            print bright(d_words,action_idx)"
   ]
  },
  {
   "cell_type": "markdown",
   "metadata": {},
   "source": [
    "### Main"
   ]
  },
  {
   "cell_type": "markdown",
   "metadata": {},
   "source": [
    "##### Loading data"
   ]
  },
  {
   "cell_type": "code",
   "execution_count": 12,
   "metadata": {
    "collapsed": false
   },
   "outputs": [
    {
     "name": "stdout",
     "output_type": "stream",
     "text": [
      "10000\n",
      "20000\n",
      "30000\n",
      "40000\n",
      "50000\n",
      "60000\n",
      "70000\n",
      "Wall time: 7.05 s\n"
     ]
    }
   ],
   "source": [
    "%time recipes=read_data()\n",
    "actions=pd.read_csv('actions_dict_sorted.txt',sep=' ')"
   ]
  },
  {
   "cell_type": "markdown",
   "metadata": {},
   "source": [
    "#### Printing results"
   ]
  },
  {
   "cell_type": "code",
   "execution_count": 13,
   "metadata": {
    "collapsed": true
   },
   "outputs": [],
   "source": [
    "actions_set=set(actions[:100].word.values)"
   ]
  },
  {
   "cell_type": "code",
   "execution_count": 14,
   "metadata": {
    "collapsed": false
   },
   "outputs": [
    {
     "name": "stdout",
     "output_type": "stream",
     "text": [
      "\u001b[43mcombine\u001b[0m parmesan cheese , pepper and garlic powder\n",
      "unfold pastry sheets onto cutting board\n",
      "\u001b[43mbrush\u001b[0m lightly with egg white\n",
      "\u001b[43msprinkle\u001b[0m each sheet with 1/4 of the cheese mixture\n",
      "lightly \u001b[43mpress\u001b[0m into pastry , \u001b[43mturn\u001b[0m over\n",
      "\u001b[43mrepeat\u001b[0m\n",
      "\u001b[43mcut\u001b[0m each sheet into 12 1 inch strips\n",
      "twist\n",
      "\u001b[43mplace\u001b[0m on ungreased cookie sheet and \u001b[43mbake\u001b[0m in 350 degrees f 175 degrees c oven for 15 minutes or until golden \u001b[43mbrown\u001b[0m\n"
     ]
    }
   ],
   "source": [
    "highlight_recipe(recipes,0)"
   ]
  },
  {
   "cell_type": "code",
   "execution_count": null,
   "metadata": {
    "collapsed": true
   },
   "outputs": [],
   "source": []
  }
 ],
 "metadata": {
  "kernelspec": {
   "display_name": "Python 2",
   "language": "python",
   "name": "python2"
  },
  "language_info": {
   "codemirror_mode": {
    "name": "ipython",
    "version": 2
   },
   "file_extension": ".py",
   "mimetype": "text/x-python",
   "name": "python",
   "nbconvert_exporter": "python",
   "pygments_lexer": "ipython2",
   "version": "2.7.9"
  }
 },
 "nbformat": 4,
 "nbformat_minor": 0
}
