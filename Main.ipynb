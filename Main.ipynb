{
 "cells": [
  {
   "cell_type": "code",
   "execution_count": 18,
   "metadata": {
    "collapsed": true
   },
   "outputs": [],
   "source": [
    "import pandas as pd\n",
    "import numpy as np\n",
    "import matplotlib.pyplot as plt\n",
    "import json, urllib2\n",
    "import os, glob, sys, time\n",
    "import nltk\n",
    "import itertools\n",
    "from nltk.corpus import stopwords\n",
    "%matplotlib inline"
   ]
  },
  {
   "cell_type": "markdown",
   "metadata": {},
   "source": [
    "### Helper functions"
   ]
  },
  {
   "cell_type": "code",
   "execution_count": 3,
   "metadata": {
    "collapsed": true
   },
   "outputs": [],
   "source": [
    "#Read 70k recipes from allrecipes.com into a list of dictionaries\n",
    "def read_data():\n",
    "    folder='recipes/'\n",
    "    files=pd.read_csv('all_files.txt',header=None)[0].values\n",
    "    k=0\n",
    "    recipes=[]\n",
    "    st=time.time()\n",
    "    for filename in files:\n",
    "        f=open(folder+filename,'r')\n",
    "        r=json.load(f)\n",
    "        recipes.append(r)\n",
    "        k+=1\n",
    "        if k%10000==0:\n",
    "            print k\n",
    "    return recipes\n",
    "\n",
    "#Removing and replacing some noizy symbols\n",
    "def clean_string(s):    \n",
    "    sep_symbols=[';']\n",
    "    for ss in sep_symbols:\n",
    "        s=s.replace(ss,'.')\n",
    "    for i in range(10):\n",
    "        s=s.replace('..','.')\n",
    "    bad_symbols=[')','(','!','-']\n",
    "    for bs in bad_symbols:\n",
    "        s=s.replace(bs,' ')\n",
    "    s=s.replace(',',' , ')                  \n",
    "    s=s.replace('  ',' ')\n",
    "    s=s.replace('. ','.')\n",
    "    return s\n",
    "\n",
    "#Raw direction text -> List of single directions\n",
    "def get_clean_directions(recipe):\n",
    "    raw=recipe['directions']\n",
    "    direction=''\n",
    "    for dd in raw:\n",
    "        direction=direction+dd+'.'\n",
    "    direction=clean_string(direction).lower()\n",
    "    s=direction.split('.')\n",
    "    return s"
   ]
  },
  {
   "cell_type": "markdown",
   "metadata": {},
   "source": [
    "### Highlighting recipes"
   ]
  },
  {
   "cell_type": "code",
   "execution_count": 79,
   "metadata": {
    "collapsed": true
   },
   "outputs": [],
   "source": [
    "def bright(l,idx1,idx2,idx3):\n",
    "    l2=[]\n",
    "    for i in range(len(l)):\n",
    "        if idx1[i]:\n",
    "            l2.append(yellow(l[i]))\n",
    "        elif idx2[i]:\n",
    "            l2.append(blue(l[i]))\n",
    "        elif idx3[i]:\n",
    "            l2.append(purple(l[i]))\n",
    "        else:\n",
    "            l2.append(l[i])\n",
    "    l2=' '.join(l2)\n",
    "    return l2\n",
    "\n",
    "def purple(string):\n",
    "    return '\\x1b[1;45m'+string+'\\x1b[0m'\n",
    "\n",
    "def yellow(string):\n",
    "    return '\\x1b[1;43m'+string+'\\x1b[0m'\n",
    "\n",
    "def blue(string):\n",
    "    return '\\x1b[1;46m'+string+'\\x1b[0m'\n",
    "\n",
    "def highlight_recipe(recipes,recipe_id):\n",
    "    dirs=get_clean_directions(recipes[recipe_id])\n",
    "    for d in dirs:\n",
    "        if len(d)>0:\n",
    "            d_words=np.array(d.split(' '))\n",
    "            action_idx=np.array([(word in actions_set) for word in d_words])\n",
    "            print bright(d_words,action_idx)"
   ]
  },
  {
   "cell_type": "markdown",
   "metadata": {},
   "source": [
    "### Main"
   ]
  },
  {
   "cell_type": "markdown",
   "metadata": {},
   "source": [
    "##### Loading data"
   ]
  },
  {
   "cell_type": "code",
   "execution_count": 12,
   "metadata": {
    "collapsed": false
   },
   "outputs": [
    {
     "name": "stdout",
     "output_type": "stream",
     "text": [
      "10000\n",
      "20000\n",
      "30000\n",
      "40000\n",
      "50000\n",
      "60000\n",
      "70000\n",
      "Wall time: 7.05 s\n"
     ]
    }
   ],
   "source": [
    "%time recipes=read_data()\n",
    "actions=pd.read_csv('actions_dict_sorted.txt',sep=' ')"
   ]
  },
  {
   "cell_type": "markdown",
   "metadata": {},
   "source": [
    "#### Printing results"
   ]
  },
  {
   "cell_type": "code",
   "execution_count": 13,
   "metadata": {
    "collapsed": true
   },
   "outputs": [],
   "source": [
    "actions_set=set(actions[:100].word.values)"
   ]
  },
  {
   "cell_type": "code",
   "execution_count": 14,
   "metadata": {
    "collapsed": false
   },
   "outputs": [
    {
     "name": "stdout",
     "output_type": "stream",
     "text": [
      "\u001b[43mcombine\u001b[0m parmesan cheese , pepper and garlic powder\n",
      "unfold pastry sheets onto cutting board\n",
      "\u001b[43mbrush\u001b[0m lightly with egg white\n",
      "\u001b[43msprinkle\u001b[0m each sheet with 1/4 of the cheese mixture\n",
      "lightly \u001b[43mpress\u001b[0m into pastry , \u001b[43mturn\u001b[0m over\n",
      "\u001b[43mrepeat\u001b[0m\n",
      "\u001b[43mcut\u001b[0m each sheet into 12 1 inch strips\n",
      "twist\n",
      "\u001b[43mplace\u001b[0m on ungreased cookie sheet and \u001b[43mbake\u001b[0m in 350 degrees f 175 degrees c oven for 15 minutes or until golden \u001b[43mbrown\u001b[0m\n"
     ]
    }
   ],
   "source": [
    "highlight_recipe(recipes,0)"
   ]
  },
  {
   "cell_type": "code",
   "execution_count": 89,
   "metadata": {
    "collapsed": true
   },
   "outputs": [],
   "source": [
    "#cleaning and reading ingridiends and measures\n",
    "\n",
    "def read_measure_list(path):\n",
    "    measures=pd.read_csv(path,header=None)\n",
    "    measure_list=measures[0].values\n",
    "    return measure_list\n",
    "\n",
    "def remove_stopwords(text_list):\n",
    "    stop = stopwords.words('english')\n",
    "    content = [w for w in text_list if w.lower() not in stop]\n",
    "    return content\n",
    "\n",
    "def remove_digits(text_list):\n",
    "    content = [w for w in text_list if w.isdigit()==0]\n",
    "    return content\n",
    "\n",
    "def get_clean_text(text):\n",
    "    return text.replace('(','').replace(')','').replace(',','').replace('-',' ').replace('/',' ').replace(';',' ').replace('  ',' ')\n",
    "\n",
    "def ingr_words_func(ingr_list):\n",
    "    recipe_words=[]\n",
    "    for recipe in ingr_list:\n",
    "        recipe=get_clean_text(recipe)\n",
    "        recipe_words.append([element for element in recipe.lower().split()])\n",
    "    recipe_words = list(itertools.chain.from_iterable(recipe_words))\n",
    "    recipe_words=remove_stopwords(remove_digits(recipe_words))\n",
    "    return recipe_words"
   ]
  },
  {
   "cell_type": "code",
   "execution_count": 70,
   "metadata": {
    "collapsed": true
   },
   "outputs": [],
   "source": [
    "#defining ingridients and measures\n",
    "def define_ingr_measure(dirs_words, ingr_words):\n",
    "    if_ingr=[0]*len(dirs_words)\n",
    "    if_measure=[0]*len(dirs_words)\n",
    "    for i,dirs_word in enumerate(dirs_words):\n",
    "        for ingrs in ingr_words:\n",
    "            if dirs_word==ingrs:\n",
    "                if dirs_word not in measure_list:\n",
    "                    if_ingr[i]=1\n",
    "                else:\n",
    "                    if_measure[i]=1\n",
    "    return if_ingr,if_measure"
   ]
  },
  {
   "cell_type": "code",
   "execution_count": 94,
   "metadata": {
    "collapsed": false
   },
   "outputs": [
    {
     "name": "stdout",
     "output_type": "stream",
     "text": [
      "\u001b[1;43mstir\u001b[0m \u001b[1;46mbutter\u001b[0m and 1 \u001b[1;45mteaspoon\u001b[0m \u001b[1;46msugar\u001b[0m into the \u001b[1;46mhot\u001b[0m \u001b[1;46mmilk\u001b[0m until \u001b[1;46mbutter\u001b[0m is melted\n",
      "when mixture is lukewarm , \u001b[1;43mstir\u001b[0m in \u001b[1;46myeast\u001b[0m and \u001b[1;43mset\u001b[0m aside for 5 minutes\n",
      "when mixture is creamy , \u001b[1;43mtransfer\u001b[0m to a large mixing bowl\n",
      "\u001b[1;43mmix\u001b[0m in 2 \u001b[1;45mcups\u001b[0m of \u001b[1;46mbread\u001b[0m \u001b[1;43mflour\u001b[0m\n",
      "\u001b[1;43madd\u001b[0m 1/2 \u001b[1;45mcup\u001b[0m \u001b[1;46msugar\u001b[0m , \u001b[1;46meggs\u001b[0m , \u001b[1;46morange\u001b[0m \u001b[1;46mjuice\u001b[0m , \u001b[1;46morange\u001b[0m \u001b[1;46mzest\u001b[0m , and \u001b[1;43msalt\u001b[0m and \u001b[1;43mbeat\u001b[0m until combined\n",
      "\u001b[1;43madd\u001b[0m remaining \u001b[1;43mflour\u001b[0m , mixing well after each addition , until it pulls away from the sides of the bowl\n",
      "knead for about 10 minutes\n",
      "\u001b[1;43mtransfer\u001b[0m dough to a greased bowl , \u001b[1;43mcover\u001b[0m with plastic \u001b[1;43mwrap\u001b[0m , and \u001b[1;43mlet\u001b[0m rise until doubled , about 1 hour\n",
      "if time permits , you can punch dough down , \u001b[1;43mcover\u001b[0m it , and \u001b[1;43mlet\u001b[0m it rise again\n",
      "\u001b[1;43mtransfer\u001b[0m dough to a lightly floured work surface\n",
      "\u001b[1;43mcut\u001b[0m dough into 3 balls , \u001b[1;43mcover\u001b[0m with plastic \u001b[1;43mwrap\u001b[0m , and \u001b[1;43mlet\u001b[0m \u001b[1;43mrest\u001b[0m for 10 minutes\n",
      "\u001b[1;43mpreheat\u001b[0m oven to 375 degrees f 190 degrees c \n",
      "lightly \u001b[1;43mgrease\u001b[0m two baking sheets or line with parchment paper\n",
      "\u001b[1;43mshape\u001b[0m each piece of dough into braided loaves or buns\n",
      "\u001b[1;43mplace\u001b[0m on baking sheets\n",
      "\u001b[1;43mlet\u001b[0m rise until doubled , about 30 minutes\n",
      "\u001b[1;43mbake\u001b[0m until rolls or loaves \u001b[1;43mare\u001b[0m golden \u001b[1;43mbrown\u001b[0m , 10 to 12 minutes for individual buns , about 20 minutes for braids\n",
      "frost rolls , if desired see cook's note or \u001b[1;43msprinkle\u001b[0m with confectioners' \u001b[1;46msugar\u001b[0m\n"
     ]
    }
   ],
   "source": [
    "recipe_id=5\n",
    "dirs=get_clean_directions(recipes[recipe_id])\n",
    "ingr_words=list(set(ingr_words_func(recipes[recipe_id]['ingr'])))\n",
    "for d in dirs:\n",
    "    if len(d)>0:\n",
    "        d_words=np.array(d.split(' '))\n",
    "        ingr_idx,measure_idx=np.array(define_ingr_measure(d_words, ingr_words))\n",
    "        action_idx=np.array([(word in actions_set) for word in d_words]).astype(np.int32)\n",
    "        colored_string=bright(d_words,action_idx,ingr_idx,measure_idx)\n",
    "\n",
    "        print colored_string"
   ]
  },
  {
   "cell_type": "code",
   "execution_count": null,
   "metadata": {
    "collapsed": true
   },
   "outputs": [],
   "source": []
  }
 ],
 "metadata": {
  "kernelspec": {
   "display_name": "Python 2",
   "language": "python",
   "name": "python2"
  },
  "language_info": {
   "codemirror_mode": {
    "name": "ipython",
    "version": 2
   },
   "file_extension": ".py",
   "mimetype": "text/x-python",
   "name": "python",
   "nbconvert_exporter": "python",
   "pygments_lexer": "ipython2",
   "version": "2.7.9"
  }
 },
 "nbformat": 4,
 "nbformat_minor": 0
}
