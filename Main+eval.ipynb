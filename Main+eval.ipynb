{
 "cells": [
  {
   "cell_type": "code",
   "execution_count": 1,
   "metadata": {
    "collapsed": false
   },
   "outputs": [],
   "source": [
    "import pandas as pd\n",
    "import numpy as np\n",
    "import matplotlib.pyplot as plt\n",
    "import json, urllib2\n",
    "import os, glob, sys, time\n",
    "import nltk,re\n",
    "import itertools\n",
    "from nltk.corpus import stopwords\n",
    "%matplotlib inline"
   ]
  },
  {
   "cell_type": "markdown",
   "metadata": {},
   "source": [
    "### Helper functions"
   ]
  },
  {
   "cell_type": "code",
   "execution_count": 2,
   "metadata": {
    "collapsed": true
   },
   "outputs": [],
   "source": [
    "#Read 70k recipes from allrecipes.com into a list of dictionaries\n",
    "def read_data():\n",
    "    folder='recipes/'\n",
    "    files=pd.read_csv('all_files.txt',header=None)[0].values\n",
    "    k=0\n",
    "    recipes=[]\n",
    "    st=time.time()\n",
    "    for filename in files:\n",
    "        f=open(folder+filename,'r')\n",
    "        r=json.load(f)\n",
    "        recipes.append(r)\n",
    "        k+=1\n",
    "        if k%10000==0:\n",
    "            print k\n",
    "    return recipes\n",
    "\n",
    "#Removing and replacing some noizy symbols\n",
    "def clean_string(s):    \n",
    "    sep_symbols=[';']\n",
    "    for ss in sep_symbols:\n",
    "        s=s.replace(ss,'.')\n",
    "    for i in range(10):\n",
    "        s=s.replace('..','.')\n",
    "    bad_symbols=[')','(','!','-']\n",
    "    for bs in bad_symbols:\n",
    "        s=s.replace(bs,' ')\n",
    "    s=s.replace(',',' , ')                  \n",
    "    s=s.replace('  ',' ')\n",
    "    s=s.replace('. ','.')\n",
    "    return s\n",
    "\n",
    "#Raw direction text -> List of single directions\n",
    "def get_clean_directions(recipe):\n",
    "    raw=recipe['directions']\n",
    "    direction=''\n",
    "    for dd in raw:\n",
    "        direction=direction+dd+'.'\n",
    "    direction=clean_string(direction).lower()\n",
    "    s=direction.split('.')\n",
    "    return s"
   ]
  },
  {
   "cell_type": "markdown",
   "metadata": {},
   "source": [
    "### Highlighting recipes"
   ]
  },
  {
   "cell_type": "code",
   "execution_count": 145,
   "metadata": {
    "collapsed": true
   },
   "outputs": [],
   "source": [
    "def bright(l,idx1,idx2,idx3):\n",
    "    l2=[]\n",
    "    for i in range(len(l)):\n",
    "        if idx2[i]:\n",
    "            l2.append(blue(l[i]))\n",
    "        elif idx1[i]:\n",
    "            l2.append(yellow(l[i]))\n",
    "        elif idx3[i]:\n",
    "            l2.append(purple(l[i]))\n",
    "        else:\n",
    "            l2.append(l[i])\n",
    "    l2=' '.join(l2)\n",
    "    return l2\n",
    "\n",
    "def purple(string):\n",
    "    return '\\x1b[1;45m'+string+'\\x1b[0m'\n",
    "\n",
    "def yellow(string):\n",
    "    return '\\x1b[1;43m'+string+'\\x1b[0m'\n",
    "\n",
    "def blue(string):\n",
    "    return '\\x1b[1;46m'+string+'\\x1b[0m'\n",
    "\n",
    "\n",
    "            \n",
    "\n",
    "            \n",
    "import re\n"
   ]
  },
  {
   "cell_type": "markdown",
   "metadata": {},
   "source": [
    "### Ingredients stuff"
   ]
  },
  {
   "cell_type": "code",
   "execution_count": 4,
   "metadata": {
    "collapsed": true
   },
   "outputs": [],
   "source": [
    "#cleaning and reading ingridiends and measures\n",
    "\n",
    "def read_measure_list(path):\n",
    "    measures=pd.read_csv(path,header=None)\n",
    "    measure_list=measures[0].values\n",
    "    return measure_list\n",
    "\n",
    "def remove_stopwords(text_list):\n",
    "    stop = stopwords.words('english')\n",
    "    content = [w for w in text_list if w.lower() not in stop]\n",
    "    return content\n",
    "\n",
    "def remove_digits(text_list):\n",
    "    content=[]\n",
    "    for w in text_list:\n",
    "        w = re.sub('[./]', ' ', w).split() \n",
    "        content.append(w)\n",
    "    content = list(itertools.chain.from_iterable(content))\n",
    "    content = [w for w in content if w.isdigit()==0]\n",
    "    return content\n",
    "\n",
    "def get_clean_text(text):\n",
    "    return text.replace('(','').replace(')','').replace(',','').replace('-',' ').replace('/',' ').replace(';',' ').replace('  ',' ')\n",
    "\n",
    "def ingr_words_func(ingr_list):\n",
    "    recipe_words=[]\n",
    "    for recipe in ingr_list:\n",
    "        recipe=get_clean_text(recipe)\n",
    "        recipe_words.append([element for element in recipe.lower().split()])\n",
    "    recipe_words = list(itertools.chain.from_iterable(recipe_words))\n",
    "    recipe_words=remove_stopwords(remove_digits(recipe_words))\n",
    "    return recipe_words\n",
    "\n",
    "#defining ingridients and measures\n",
    "def define_ingr_measure(dirs_words, ingr_words):\n",
    "    if_ingr=[0]*len(dirs_words)\n",
    "    if_measure=[0]*len(dirs_words)\n",
    "    for i,dirs_word in enumerate(dirs_words):\n",
    "        for ingrs in ingr_words:\n",
    "            if dirs_word==ingrs:\n",
    "                if dirs_word not in measure_list:\n",
    "                    if_ingr[i]=1\n",
    "                else:\n",
    "                    if_measure[i]=1\n",
    "    return if_ingr,if_measure"
   ]
  },
  {
   "cell_type": "markdown",
   "metadata": {},
   "source": [
    "### Semantic role labeling part"
   ]
  },
  {
   "cell_type": "code",
   "execution_count": 5,
   "metadata": {
    "collapsed": false
   },
   "outputs": [],
   "source": [
    "from practnlptools.tools import Annotator\n",
    "annotator=Annotator()"
   ]
  },
  {
   "cell_type": "markdown",
   "metadata": {},
   "source": [
    "## Main"
   ]
  },
  {
   "cell_type": "markdown",
   "metadata": {},
   "source": [
    "##### Loading data"
   ]
  },
  {
   "cell_type": "code",
   "execution_count": 134,
   "metadata": {
    "collapsed": false
   },
   "outputs": [],
   "source": [
    "#%time recipes=read_data()\n",
    "actions=pd.read_csv('action_dict_wordnet.txt',sep=' ')\n",
    "measure_list=read_measure_list('measure_list.txt')"
   ]
  },
  {
   "cell_type": "code",
   "execution_count": 7,
   "metadata": {
    "collapsed": true
   },
   "outputs": [],
   "source": [
    "def highlight_recipe(recipes,recipe_id):\n",
    "    dirs=get_clean_directions(recipes[recipe_id])\n",
    "    ingr_words=list(set(ingr_words_func(recipes[recipe_id]['ingr'])))\n",
    "    r=0\n",
    "    for d in dirs:\n",
    "        if len(d)>0:\n",
    "            d_words=np.array(d.split(' '))\n",
    "            ingr_idx,measure_idx=np.array(define_ingr_measure(d_words, ingr_words))\n",
    "            action_idx=np.array([(word in actions_set) for word in d_words]).astype(np.int32)\n",
    "            colored_string=bright(d_words,action_idx,ingr_idx,measure_idx)\n",
    "            print r,colored_string\n",
    "            print create_instructions(d)\n",
    "            print '_____________________________________'\n",
    "            #print create_instructions(d)\n",
    "            r+=1"
   ]
  },
  {
   "cell_type": "markdown",
   "metadata": {},
   "source": [
    "#### Tagging results"
   ]
  },
  {
   "cell_type": "code",
   "execution_count": 142,
   "metadata": {
    "collapsed": true
   },
   "outputs": [],
   "source": [
    "actions_set=set(actions[:200].word.values)"
   ]
  },
  {
   "cell_type": "markdown",
   "metadata": {},
   "source": [
    "### First attempt to build flow of commands"
   ]
  },
  {
   "cell_type": "markdown",
   "metadata": {},
   "source": [
    "# 2. Simple predictor"
   ]
  },
  {
   "cell_type": "markdown",
   "metadata": {},
   "source": [
    "## Helper functions"
   ]
  },
  {
   "cell_type": "code",
   "execution_count": 528,
   "metadata": {
    "collapsed": false
   },
   "outputs": [],
   "source": [
    "def obj_elements_list(strr):\n",
    "    try:\n",
    "        output_list=[]\n",
    "        #make the list of correct ingrs (without 'or+word', 'and'+word = new list element etc.)\n",
    "        ingr_in_one_dir_list=(strr.split(' , ')) \n",
    "        for i, ingr in enumerate(ingr_in_one_dir_list): #for all objects if it's list of ingrs\n",
    "            ingr_without_and_list=ingr.split(' and ') #dealing with 'and' \n",
    "            for ingr_without_and in ingr_without_and_list:\n",
    "                ingr_temp=ingr_without_and.split(' ')\n",
    "                for ingr_temp_el in ingr_temp:\n",
    "                    if ingr_temp_el=='or':#dealing with 'or'\n",
    "                        idx=ingr_temp.index('or') \n",
    "                        ingr_temp = ingr_temp[:idx]\n",
    "                ingr_temp = remove_stopwords(ingr_temp)\n",
    "                output_list.append(' '.join(ingr_temp))\n",
    "        return output_list\n",
    "    except:\n",
    "        return ['0']\n",
    "\n",
    "def add_action_line(df,ls):\n",
    "    cur_flow=pd.Series(ls,index=['line_id', 'action', 'object', 'target', 'no', 'nt', 'description'])\n",
    "    return df.append(cur_flow,ignore_index=True)\n",
    "\n",
    "\n",
    "def create_instructions(phrase,flag=1):\n",
    "    annotated = annotator.getAnnotations('they '+phrase)['srl']\n",
    "    annotated_steps = []\n",
    "    #if (len(annotated) > 0) :\n",
    "    for i in xrange(len(annotated)):\n",
    "        annotated_step = dict()\n",
    "        annotated_step['object']=''\n",
    "        annotated_step['target']=''\n",
    "        annotated_step['action'] = annotated[i]['V']\n",
    "        if set(['A2']).issubset(annotated[i].keys()):\n",
    "            annotated_step['target'] = annotated[i]['A2']\n",
    "        if set(['AM-LOC']).issubset(annotated[i].keys()):\n",
    "            annotated_step['target'] = annotated[i]['AM-LOC']\n",
    "        if set(['A1']).issubset(annotated[i].keys()):\n",
    "            annotated_step['object'] = annotated[i]['A1']\n",
    "        annotated_steps.append(annotated_step)\n",
    "    #if (len(annotated_steps)==0) & (flag):\n",
    "    #    return create_instructions('they '+phrase,0)\n",
    "    return annotated_steps\n",
    "\n",
    "\n",
    "def line_score(lt,lp):\n",
    "    sc=[0,0,0]\n",
    "    if (lt[1]==lp[1]):\n",
    "        sc+=lt[1:4]==lp[1:4]\n",
    "    else:\n",
    "        pass\n",
    "    return sc\n",
    "\n",
    "def calc_score(y_t,y_p):\n",
    "    cur_t=y_t.values\n",
    "    cur_p=y_p.values\n",
    "    score=np.zeros((len(cur_t),3)).astype(np.uint8)\n",
    "    for t in range(len(cur_t)):\n",
    "        cur_score=[0,0,0]\n",
    "        for p in range(len(cur_p)):\n",
    "            temp_score=line_score(cur_t[t],cur_p[p])\n",
    "            if sum(temp_score)>sum(cur_score):\n",
    "                cur_score=temp_score\n",
    "        score[t]=cur_score\n",
    "    score_2=round(np.sum(np.sum(score,axis=1)==3)/(len(cur_t)+0.),2)\n",
    "    score_1=np.round(np.sum(score,axis=0)/(len(cur_t)+0.),2)\n",
    "    return score_1,score_2"
   ]
  },
  {
   "cell_type": "markdown",
   "metadata": {},
   "source": [
    "### Dev"
   ]
  },
  {
   "cell_type": "code",
   "execution_count": 106,
   "metadata": {
    "collapsed": false
   },
   "outputs": [
    {
     "data": {
      "text/plain": [
       "['chicken']"
      ]
     },
     "execution_count": 106,
     "metadata": {},
     "output_type": "execute_result"
    }
   ],
   "source": [
    "dd='place the chicken in a medium bowl , and coat with the marinade'\n",
    "aaa = annotator.getAnnotations(dd)['srl']\n",
    "obj_elements_list(aaa)\n",
    "##prediction=add_action_line(prediction,['0','combine','cheese','body','0','0','0'])"
   ]
  },
  {
   "cell_type": "code",
   "execution_count": 99,
   "metadata": {
    "collapsed": false
   },
   "outputs": [],
   "source": [
    "dd='in a food processor or blender , combine the green onions , onion , jalapeno pepper , soy sauce , vinegar , vegetable oil , brown sugar , thyme , cloves , nutmeg and allspice'"
   ]
  },
  {
   "cell_type": "code",
   "execution_count": 529,
   "metadata": {
    "collapsed": false
   },
   "outputs": [],
   "source": [
    "def get_prediction(recipes,recipe_id):\n",
    "    cols=['line_id', 'action', 'object', 'target', 'no', 'nt', 'description']\n",
    "    prediction=pd.DataFrame(columns=cols)\n",
    "\n",
    "    #recipe_id=6667\n",
    "    dirs=get_clean_directions(recipes[recipe_id])\n",
    "    ingr_words=ingr_words_func(recipes[recipe_id]['ingr'])\n",
    "    r=0\n",
    "    cur_line_id=0\n",
    "    for d in dirs:\n",
    "        if len(d)>0:\n",
    "            d_words=np.array(d.split(' '))\n",
    "            ingr_idx,measure_idx=np.array(define_ingr_measure(d_words, ingr_words))\n",
    "            action_idx=np.array([(word in actions_set) for word in d_words]).astype(np.int32)\n",
    "            #colored_string=bright(d_words,action_idx,ingr_idx,measure_idx)\n",
    "            #print r,colored_string\n",
    "            srl=create_instructions(d)\n",
    "\n",
    "            for t in range(len(srl)):\n",
    "                cur_srl=srl[t]\n",
    "                objects=obj_elements_list(cur_srl['object'])\n",
    "                if (len(objects[0])==0) & (len(cur_srl['target'])==0):\n",
    "                    ls=7*['0']\n",
    "                    ls[0]=str(cur_line_id)\n",
    "                    ls[1]=cur_srl['action']\n",
    "                    ls[2]='body'\n",
    "                    prediction=add_action_line(prediction,ls)\n",
    "\n",
    "                else:\n",
    "                    for object in objects:\n",
    "                        ls=7*['0']\n",
    "                        ls[0]=str(cur_line_id)\n",
    "                        ls[1]=cur_srl['action']\n",
    "                        ls[2]='0'\n",
    "                        if len(object):\n",
    "                            ls[2]=object\n",
    "                        if len(cur_srl['target'])>0:\n",
    "                            ls[3]=cur_srl['target']\n",
    "                        else:\n",
    "                            ls[3]='body'\n",
    "                        prediction=add_action_line(prediction,ls)\n",
    "            #print '_____________________________________'\n",
    "            #print create_instructions(d)\n",
    "            r+=1\n",
    "            cur_line_id+=1\n",
    "    return prediction"
   ]
  },
  {
   "cell_type": "code",
   "execution_count": 408,
   "metadata": {
    "collapsed": false
   },
   "outputs": [],
   "source": [
    "pairs=np.zeros(270000).astype(np.int32)\n",
    "for i in range(len(lb)):\n",
    "    rev=int(lb.values[i][0][:-4])\n",
    "    pairs[rev]=i"
   ]
  },
  {
   "cell_type": "code",
   "execution_count": 558,
   "metadata": {
    "collapsed": false,
    "scrolled": false
   },
   "outputs": [
    {
     "name": "stdout",
     "output_type": "stream",
     "text": [
      "13344 (array([ 0.96,  0.76,  0.6 ]), 0.52)\n",
      "13345 (array([ 0.83,  0.44,  0.39]), 0.28)\n",
      "13346 (array([ 0.79,  0.58,  0.54]), 0.46)\n",
      "13347 (array([ 0.7,  0.4,  0.1]), 0.1)\n",
      "13348 (array([ 0.81,  0.73,  0.19]), 0.19)\n",
      "13349 (array([ 0.96,  0.2 ,  0.12]), 0.12)\n",
      "13351 (array([ 0.77,  0.27,  0.09]), 0.09)\n",
      "13352 (array([ 0.64,  0.56,  0.52]), 0.52)\n",
      "13353 (array([ 0.68,  0.53,  0.32]), 0.32)\n",
      "13354 (array([ 0.83,  0.58,  0.75]), 0.5)\n",
      "13355 (array([ 0.7,  0.7,  0.6]), 0.6)\n",
      "13356 (array([ 1. ,  0.9,  0.1]), 0.1)\n",
      "13357 (array([ 0.86,  0.43,  0.  ]), 0.0)\n",
      "13358 (array([ 0.66,  0.59,  0.48]), 0.45)\n",
      "13359 (array([ 0.88,  0.88,  0.44]), 0.44)\n",
      "13360 (array([ 0.7,  0.6,  0.5]), 0.5)\n",
      "13361 (array([ 0.69,  0.69,  0.15]), 0.15)\n",
      "13362 (array([ 0.8,  0.4,  0. ]), 0.0)\n",
      "13363 (array([ 0.88,  0.5 ,  0.38]), 0.38)\n",
      "13364 (array([ 0.92,  0.69,  0.15]), 0.08)\n",
      "13366 (array([ 0.64,  0.5 ,  0.36]), 0.36)\n",
      "13367 (array([ 0.86,  0.71,  0.57]), 0.52)\n",
      "13368 (array([ 0.6 ,  0.52,  0.2 ]), 0.16)\n",
      "13369 (array([ 0.8,  0.6,  0.4]), 0.4)\n",
      "13370 (array([ 0.61,  0.48,  0.09]), 0.09)\n",
      "13371 (array([ 0.5 ,  0.08,  0.33]), 0.08)\n",
      "13372 (array([ 0.86,  0.71,  0.71]), 0.57)\n",
      "13376 (array([ 0.94,  0.89,  0.67]), 0.67)\n",
      "13377 (array([ 0.75,  0.75,  0.75]), 0.75)\n",
      "13378 (array([ 0.77,  0.69,  0.54]), 0.54)\n",
      "13379 (array([ 0.73,  0.67,  0.4 ]), 0.33)\n",
      "13380 (array([ 0.9 ,  0.75,  0.7 ]), 0.55)\n",
      "13381 (array([ 0.92,  0.75,  0.17]), 0.17)\n",
      "13382 (array([ 0.87,  0.73,  0.8 ]), 0.67)\n",
      "13383 (array([ 0.85,  0.5 ,  0.15]), 0.15)\n",
      "13384 (array([ 0.94,  0.89,  0.67]), 0.67)\n",
      "13385 (array([ 0.59,  0.29,  0.35]), 0.24)\n",
      "13386 (array([ 0.64,  0.36,  0.09]), 0.0)\n",
      "13387 (array([ 0.64,  0.  ,  0.09]), 0.0)\n",
      "13388 (array([ 0.72,  0.56,  0.56]), 0.5)\n",
      "13389 (array([ 0.89,  0.22,  0.78]), 0.22)\n",
      "13390 (array([ 0.59,  0.53,  0.59]), 0.53)\n",
      "13391 (array([ 1. ,  1. ,  0.6]), 0.6)\n",
      "13392 (array([ 0.,  0.,  0.]), 0.0)\n",
      "13393 (array([ 0.93,  0.64,  0.64]), 0.5)\n",
      "13394 (array([ 0.71,  0.14,  0.43]), 0.0)\n",
      "13395 (array([ 0.41,  0.06,  0.29]), 0.0)\n",
      "6665 (array([ 0.71,  0.29,  0.43]), 0.24)\n",
      "7664 (array([ 1.  ,  0.13,  0.2 ]), 0.07)\n",
      "7670 (array([ 0.93,  0.53,  0.47]), 0.33)\n",
      "7671 (array([ 0.72,  0.33,  0.33]), 0.28)\n",
      "7673 (array([ 0.83,  0.06,  0.11]), 0.0)\n",
      "8665 (array([ 0.92,  0.77,  0.62]), 0.54)\n",
      "8666 (array([ 0.88,  0.25,  0.5 ]), 0.25)\n",
      "8667 (array([ 0.94,  0.78,  0.06]), 0.06)\n",
      "8670 (array([ 0.73,  0.27,  0.6 ]), 0.2)\n",
      "8671 (array([ 0.9,  0.5,  0.7]), 0.5)\n",
      "8676 (array([ 0.75,  0.31,  0.19]), 0.06)\n",
      "8682 (array([ 0.93,  0.6 ,  0.67]), 0.53)\n"
     ]
    }
   ],
   "source": [
    "fold='C:/Users/User/Dropbox (MIT)/NLP Final project/labeled recipes/'\n",
    "files=glob.glob(fold+'*')\n",
    "for file in files:\n",
    "    y_t=pd.read_csv(file)\n",
    "    v=int(file[63:-4])\n",
    "    y_p=get_prediction(recipes,pairs[v])\n",
    "    print v,calc_score(y_t,y_p)"
   ]
  },
  {
   "cell_type": "code",
   "execution_count": 341,
   "metadata": {
    "collapsed": true
   },
   "outputs": [],
   "source": []
  },
  {
   "cell_type": "code",
   "execution_count": 523,
   "metadata": {
    "collapsed": false
   },
   "outputs": [
    {
     "name": "stdout",
     "output_type": "stream",
     "text": [
      "13362 (array([ 0.8,  0.4,  0. ]), 0.0)\n"
     ]
    }
   ],
   "source": [
    "v=13362\n",
    "y_t=pd.read_csv(fold+'/l'+str(v)+'.txt')\n",
    "y_p=get_prediction(recipes,pairs[v])\n",
    "print v,calc_score(y_t,y_p)"
   ]
  },
  {
   "cell_type": "code",
   "execution_count": 557,
   "metadata": {
    "collapsed": false,
    "scrolled": false
   },
   "outputs": [
    {
     "name": "stdout",
     "output_type": "stream",
     "text": [
      "0 in a large bowl \u001b[1;43mtoss\u001b[0m together the \u001b[1;46mchicken\u001b[0m , \u001b[1;46mraisins\u001b[0m , \u001b[1;46mcelery\u001b[0m and \u001b[1;46mgrapes\u001b[0m\n",
      "[]\n",
      "_____________________________________\n",
      "1 \u001b[1;43mfold\u001b[0m in the \u001b[1;46mavocado\u001b[0m and the \u001b[1;46mapple\u001b[0m\n",
      "[{'action': 'fold', 'object': '', 'target': 'in the avocado and the apple'}]\n",
      "_____________________________________\n",
      "2 \u001b[1;43mmix\u001b[0m in the \u001b[1;46mmayonnaise\u001b[0m and \u001b[1;46mlemon\u001b[0m \u001b[1;46mjuice\u001b[0m\n",
      "[{'action': 'mix', 'object': '', 'target': 'in the mayonnaise and lemon juice'}]\n",
      "_____________________________________\n",
      "3 \u001b[1;43mchill\u001b[0m\n",
      "[]\n",
      "_____________________________________\n"
     ]
    }
   ],
   "source": [
    "highlight_recipe(recipes,1992)"
   ]
  },
  {
   "cell_type": "code",
   "execution_count": 556,
   "metadata": {
    "collapsed": false
   },
   "outputs": [
    {
     "name": "stdout",
     "output_type": "stream",
     "text": [
      "1367 0\n",
      "1856 0\n",
      "1890 0\n",
      "1992 0\n"
     ]
    }
   ],
   "source": [
    "for recipe_id in range(1000,2000):\n",
    "    dirs=get_clean_directions(recipes[recipe_id])\n",
    "    ingr_words=list(set(ingr_words_func(recipes[recipe_id]['ingr'])))\n",
    "    r=0\n",
    "    f=0\n",
    "    for d in dirs:\n",
    "        if len(d)>0:\n",
    "            d_words=np.array(d.split(' '))\n",
    "            action_idx=np.array([(word in actions_set) for word in d_words]).astype(np.int32)\n",
    "            v=sum(action_idx)\n",
    "            f+=abs(1-v)\n",
    "    if not(f):\n",
    "        print recipe_id,f"
   ]
  },
  {
   "cell_type": "code",
   "execution_count": null,
   "metadata": {
    "collapsed": true
   },
   "outputs": [],
   "source": []
  }
 ],
 "metadata": {
  "kernelspec": {
   "display_name": "Python 2",
   "language": "python",
   "name": "python2"
  },
  "language_info": {
   "codemirror_mode": {
    "name": "ipython",
    "version": 2
   },
   "file_extension": ".py",
   "mimetype": "text/x-python",
   "name": "python",
   "nbconvert_exporter": "python",
   "pygments_lexer": "ipython2",
   "version": "2.7.9"
  }
 },
 "nbformat": 4,
 "nbformat_minor": 0
}
